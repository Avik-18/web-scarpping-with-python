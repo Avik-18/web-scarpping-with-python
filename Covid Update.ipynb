{
 "cells": [
  {
   "cell_type": "code",
   "execution_count": 130,
   "metadata": {},
   "outputs": [],
   "source": [
    "import requests\n",
    "import bs4\n",
    "\n",
    "\n",
    "def get_html_data(url):\n",
    "    data = requests.get(url)\n",
    "    return data\n",
    "\n",
    "\n",
    "def get_corona_detail_of_india():\n",
    "    url = \"https://www.mohfw.gov.in/\"\n",
    "    html_data = get_html_data(url)\n",
    "    bs = bs4.BeautifulSoup(html_data.text,'html.parser')\n",
    "    info_div = bs.find(\"section\",class_=\"site-stats\").find_all(\"div\",class_=\"col-xs-12\")\n",
    "\n",
    "    for block in info_div:\n",
    "\n",
    "\n",
    "        text=block.find(\"div\",class_=\"status-update\").get_text()\n",
    "        \n",
    "        \n",
    "        print(text)        "
   ]
  },
  {
   "cell_type": "code",
   "execution_count": 131,
   "metadata": {},
   "outputs": [
    {
     "name": "stdout",
     "output_type": "stream",
     "text": [
      "COVID-19 INDIA as on : 02 May 2021, 08:00 IST (GMT+5:30)\n",
      "\t\t(↑↓ Status change since yesterday)\n",
      "COVID-19 Vaccination as on : 02 May 2021, 08:00 IST (GMT+5:30) \n"
     ]
    }
   ],
   "source": [
    "get_corona_detail_of_india()"
   ]
  },
  {
   "cell_type": "code",
   "execution_count": null,
   "metadata": {},
   "outputs": [],
   "source": []
  }
 ],
 "metadata": {
  "kernelspec": {
   "display_name": "Python 3",
   "language": "python",
   "name": "python3"
  },
  "language_info": {
   "codemirror_mode": {
    "name": "ipython",
    "version": 3
   },
   "file_extension": ".py",
   "mimetype": "text/x-python",
   "name": "python",
   "nbconvert_exporter": "python",
   "pygments_lexer": "ipython3",
   "version": "3.8.5"
  }
 },
 "nbformat": 4,
 "nbformat_minor": 4
}
