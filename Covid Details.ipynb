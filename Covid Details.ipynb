{
 "cells": [
  {
   "cell_type": "code",
   "execution_count": 3,
   "metadata": {},
   "outputs": [],
   "source": [
    "import requests\n",
    "import bs4\n",
    "\n",
    "\n",
    "def get_html_data(url):\n",
    "    data = requests.get(url)\n",
    "    return data\n",
    "\n",
    "\n",
    "def get_corona_detail_of_india():\n",
    "    url = \"https://www.mohfw.gov.in/\"\n",
    "    html_data = get_html_data(url)\n",
    "    bs = bs4.BeautifulSoup(html_data.text,'html.parser')\n",
    "    info_div = bs.find(\"div\",class_=\"col-xs-8 site-stats-count\").find_all(\"li\",class_=\"bg-blue\")\n",
    "    \n",
    "    info_div2 = bs.find(\"div\",class_=\"col-xs-8 site-stats-count\").find_all(\"li\",class_=\"bg-green\")\n",
    "    \n",
    "    info_div3 = bs.find(\"div\",class_=\"col-xs-8 site-stats-count\").find_all(\"li\",class_=\"bg-red\")\n",
    "    \n",
    "    for block in info_div:\n",
    "        text=block.find(\"strong\",class_=\"mob-hide\").get_text()\n",
    "\n",
    "        count=block.find(\"strong\",class_=\"\").get_text()\n",
    "        \n",
    "        pos=count.index('(')\n",
    "        \n",
    "        print(text,\" : \",count[0:pos])\n",
    "        \n",
    "    for block in info_div2:\n",
    "        text=block.find(\"strong\",class_=\"mob-hide\").get_text()\n",
    "\n",
    "        count=block.find(\"strong\",class_=\"\").get_text()\n",
    "        \n",
    "        pos=count.index('(')\n",
    "        \n",
    "        print(text,\" : \",count[0:pos])\n",
    "        \n",
    "    for block in info_div3:\n",
    "        text=block.find(\"strong\",class_=\"mob-hide\").get_text()\n",
    "\n",
    "        count=block.find(\"strong\",class_=\"\").get_text()\n",
    "        \n",
    "        pos=count.index('(')\n",
    "        \n",
    "        print(text,\" : \",count[0:pos])"
   ]
  },
  {
   "cell_type": "code",
   "execution_count": 4,
   "metadata": {},
   "outputs": [
    {
     "name": "stdout",
     "output_type": "stream",
     "text": [
      "Active    :  3349644\n",
      "Discharged    :  15992271\n",
      "Deaths    :  215542\n"
     ]
    }
   ],
   "source": [
    "get_corona_detail_of_india()"
   ]
  },
  {
   "cell_type": "code",
   "execution_count": null,
   "metadata": {},
   "outputs": [],
   "source": []
  }
 ],
 "metadata": {
  "kernelspec": {
   "display_name": "Python 3",
   "language": "python",
   "name": "python3"
  },
  "language_info": {
   "codemirror_mode": {
    "name": "ipython",
    "version": 3
   },
   "file_extension": ".py",
   "mimetype": "text/x-python",
   "name": "python",
   "nbconvert_exporter": "python",
   "pygments_lexer": "ipython3",
   "version": "3.8.5"
  }
 },
 "nbformat": 4,
 "nbformat_minor": 4
}
