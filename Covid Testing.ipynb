{
 "cells": [
  {
   "cell_type": "code",
   "execution_count": 25,
   "metadata": {},
   "outputs": [],
   "source": [
    "import requests\n",
    "import bs4\n",
    "\n",
    "\n",
    "def get_html_data(url):\n",
    "    data = requests.get(url)\n",
    "    return data\n",
    "\n",
    "\n",
    "def get_corona_detail_of_india():\n",
    "    url = \"https://www.icmr.gov.in/index.html\"\n",
    "    html_data = get_html_data(url)\n",
    "    bs = bs4.BeautifulSoup(html_data.text,'html.parser')\n",
    "    info_div = bs.find(\"div\",class_=\"credit-cool-facts-area\").find_all(\"div\",class_=\"single-cool-fact d-flex align-items-center mb-100\")\n",
    "\n",
    "    for block in info_div:\n",
    "        text=block.find(\"h2\",class_=\"\").get_text()\n",
    "        \n",
    "        count=block.find(\"p\",class_=\"\").get_text()\n",
    "        \n",
    "        print(text,\"\\n\",count)"
   ]
  },
  {
   "cell_type": "code",
   "execution_count": 26,
   "metadata": {},
   "outputs": [
    {
     "name": "stdout",
     "output_type": "stream",
     "text": [
      "37,21,98,253* \n",
      " Cumulative total samples tested up to June 09, 2021(*Inclusive of data reconciled by the States)\n",
      "20,04,690 \n",
      " No of Samples Tested on June 09, 2021\n"
     ]
    }
   ],
   "source": [
    "get_corona_detail_of_india()"
   ]
  },
  {
   "cell_type": "code",
   "execution_count": null,
   "metadata": {},
   "outputs": [],
   "source": []
  }
 ],
 "metadata": {
  "kernelspec": {
   "display_name": "Python 3",
   "language": "python",
   "name": "python3"
  },
  "language_info": {
   "codemirror_mode": {
    "name": "ipython",
    "version": 3
   },
   "file_extension": ".py",
   "mimetype": "text/x-python",
   "name": "python",
   "nbconvert_exporter": "python",
   "pygments_lexer": "ipython3",
   "version": "3.8.5"
  }
 },
 "nbformat": 4,
 "nbformat_minor": 4
}
