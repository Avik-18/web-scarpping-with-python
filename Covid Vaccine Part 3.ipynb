{
 "cells": [
  {
   "cell_type": "code",
   "execution_count": 11,
   "metadata": {},
   "outputs": [],
   "source": [
    "import requests\n",
    "import bs4\n",
    "\n",
    "\n",
    "def get_html_data(url):\n",
    "    data = requests.get(url)\n",
    "    return data\n",
    "\n",
    "\n",
    "def get_corona_detail_of_india():\n",
    "    url = \"https://www.mygov.in/covid-19/\"\n",
    "    html_data = get_html_data(url)\n",
    "    bs = bs4.BeautifulSoup(html_data.text,'html.parser')\n",
    "    info_div = bs.find(\"div\",class_=\"vaccinated-view\").find_all(\"div\",class_=\"yday-vcount\")\n",
    "    \n",
    "\n",
    "    for block in info_div:\n",
    "        \n",
    "        text=block.find(\"strong\",class_=\"\").get_text()\n",
    "        \n",
    "        count=block.find(\"span\",class_=\"\").get_text()\n",
    "\n",
    "        print(text,\" : \",count)\n",
    "            "
   ]
  },
  {
   "cell_type": "code",
   "execution_count": 12,
   "metadata": {},
   "outputs": [
    {
     "name": "stdout",
     "output_type": "stream",
     "text": [
      "33,79,261  :  Vaccination Doses Day Before\n"
     ]
    }
   ],
   "source": [
    "get_corona_detail_of_india()"
   ]
  },
  {
   "cell_type": "code",
   "execution_count": null,
   "metadata": {},
   "outputs": [],
   "source": []
  },
  {
   "cell_type": "code",
   "execution_count": null,
   "metadata": {},
   "outputs": [],
   "source": []
  }
 ],
 "metadata": {
  "kernelspec": {
   "display_name": "Python 3",
   "language": "python",
   "name": "python3"
  },
  "language_info": {
   "codemirror_mode": {
    "name": "ipython",
    "version": 3
   },
   "file_extension": ".py",
   "mimetype": "text/x-python",
   "name": "python",
   "nbconvert_exporter": "python",
   "pygments_lexer": "ipython3",
   "version": "3.8.5"
  }
 },
 "nbformat": 4,
 "nbformat_minor": 4
}
