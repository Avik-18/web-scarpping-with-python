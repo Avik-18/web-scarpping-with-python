{
 "cells": [
  {
   "cell_type": "code",
   "execution_count": 1,
   "metadata": {},
   "outputs": [],
   "source": [
    "import requests\n",
    "import bs4\n",
    "\n",
    "\n",
    "def get_html_data(url):\n",
    "    data = requests.get(url)\n",
    "    return data\n",
    "\n",
    "\n",
    "def get_corona_detail_of_india():\n",
    "    url = \"https://news.google.com/covid19/map?hl=en-IN&mid=%2Fm%2F03rk0&state=7&gl=IN&ceid=IN%3Aen\"\n",
    "    html_data = get_html_data(url)\n",
    "    bs = bs4.BeautifulSoup(html_data.text,'html.parser')\n",
    "    info_div = bs.find(\"div\",class_=\"UnO7qd\").find_all(\"div\",class_=\"fNm5wd qs41qe\")\n",
    "    \n",
    "    info_div2 = bs.find(\"div\",class_=\"UnO7qd\").find_all(\"div\",class_=\"fNm5wd\")\n",
    "\n",
    "    for block in info_div:\n",
    "        \n",
    "        text=block.find(\"div\",class_=\"RbBDcc\").get_text()\n",
    "        \n",
    "        if text==\"Total doses given\":\n",
    "        \n",
    "            count=block.find(\"div\",class_=\"UvMayb\").get_text()\n",
    "\n",
    "            \n",
    "            print(text,\" : \",count)\n",
    "            \n",
    "    for block in info_div2:\n",
    "        \n",
    "        text=block.find(\"div\",class_=\"RbBDcc\").get_text()\n",
    "        \n",
    "        if text==\"People fully vaccinated\":\n",
    "        \n",
    "            count=block.find(\"div\",class_=\"UvMayb\").get_text()\n",
    "\n",
    "            \n",
    "            print(text,\" : \",count)\n",
    "            \n",
    "            count=block.find(\"div\",class_=\"tIUMlb\").get_text()\n",
    "            \n",
    "            print(count)"
   ]
  },
  {
   "cell_type": "code",
   "execution_count": 2,
   "metadata": {},
   "outputs": [
    {
     "name": "stdout",
     "output_type": "stream",
     "text": [
      "Total doses given  :  23,68,56,505\n",
      "People fully vaccinated  :  4,56,34,125\n",
      "% of population: 3.4%\n"
     ]
    }
   ],
   "source": [
    "get_corona_detail_of_india()"
   ]
  },
  {
   "cell_type": "code",
   "execution_count": null,
   "metadata": {},
   "outputs": [],
   "source": []
  }
 ],
 "metadata": {
  "kernelspec": {
   "display_name": "Python 3",
   "language": "python",
   "name": "python3"
  },
  "language_info": {
   "codemirror_mode": {
    "name": "ipython",
    "version": 3
   },
   "file_extension": ".py",
   "mimetype": "text/x-python",
   "name": "python",
   "nbconvert_exporter": "python",
   "pygments_lexer": "ipython3",
   "version": "3.8.5"
  }
 },
 "nbformat": 4,
 "nbformat_minor": 4
}
